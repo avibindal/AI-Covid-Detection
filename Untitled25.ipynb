{
 "cells": [
  {
   "cell_type": "code",
   "execution_count": 7,
   "id": "d701e934-b022-41d3-827c-d0e5ead1db0c",
   "metadata": {},
   "outputs": [],
   "source": [
    "import tensorflow as tf\n",
    "import os"
   ]
  },
  {
   "cell_type": "code",
   "execution_count": 8,
   "id": "74c44f71-d8b4-4d43-8355-7b52adbbc2b2",
   "metadata": {},
   "outputs": [
    {
     "data": {
      "text/plain": [
       "['covid', 'logs', 'lung opacity', 'normal', 'viral pneumonia']"
      ]
     },
     "execution_count": 8,
     "metadata": {},
     "output_type": "execute_result"
    }
   ],
   "source": [
    "os.listdir(r'C:\\Users\\sanke\\OneDrive\\Desktop\\covid dataset')"
   ]
  },
  {
   "cell_type": "code",
   "execution_count": 9,
   "id": "0c5cb1f8-a5da-401c-abab-389d0fdd5f55",
   "metadata": {},
   "outputs": [],
   "source": [
    "import numpy as np\n",
    "from matplotlib import pyplot as plt"
   ]
  },
  {
   "cell_type": "code",
   "execution_count": 10,
   "id": "72018fea-ae19-4150-916a-b6ccd8c132c6",
   "metadata": {},
   "outputs": [
    {
     "name": "stdout",
     "output_type": "stream",
     "text": [
      "Found 4010 files belonging to 5 classes.\n"
     ]
    }
   ],
   "source": [
    "covid_dataset = tf.keras.utils.image_dataset_from_directory(r'C:\\Users\\sanke\\OneDrive\\Desktop\\covid dataset')"
   ]
  },
  {
   "cell_type": "code",
   "execution_count": 15,
   "id": "9f32cd72-1503-4d0c-bcc8-7a6379c11d49",
   "metadata": {},
   "outputs": [],
   "source": [
    "data_iterator = covid_dataset.as_numpy_iterator()"
   ]
  },
  {
   "cell_type": "code",
   "execution_count": 17,
   "id": "df546b18-5bdf-4e57-926b-e31a135c1ba0",
   "metadata": {},
   "outputs": [
    {
     "data": {
      "text/plain": [
       "NumpyIterator(iterator=<tensorflow.python.data.ops.iterator_ops.OwnedIterator object at 0x000002C80E35AAB0>)"
      ]
     },
     "execution_count": 17,
     "metadata": {},
     "output_type": "execute_result"
    }
   ],
   "source": [
    "data_iterator"
   ]
  },
  {
   "cell_type": "code",
   "execution_count": 19,
   "id": "76147277-cd6c-4966-841b-2e5d87661e25",
   "metadata": {},
   "outputs": [],
   "source": [
    "batch = data_iterator.next()\n"
   ]
  },
  {
   "cell_type": "code",
   "execution_count": 21,
   "id": "f3949f8a-bbe6-40f1-b74b-05fd4a9ae73e",
   "metadata": {},
   "outputs": [
    {
     "data": {
      "text/plain": [
       "(32, 256, 256, 3)"
      ]
     },
     "execution_count": 21,
     "metadata": {},
     "output_type": "execute_result"
    }
   ],
   "source": [
    "batch[0].shape"
   ]
  },
  {
   "cell_type": "code",
   "execution_count": 23,
   "id": "750813e7-bac8-4ab2-bef0-e3031401d568",
   "metadata": {},
   "outputs": [
    {
     "data": {
      "text/plain": [
       "array([[[[9.91601562e+00, 9.91601562e+00, 9.91601562e+00],\n",
       "         [8.74804688e+00, 8.74804688e+00, 8.74804688e+00],\n",
       "         [8.00000000e+00, 8.00000000e+00, 8.00000000e+00],\n",
       "         ...,\n",
       "         [1.06406250e+01, 1.06406250e+01, 1.06406250e+01],\n",
       "         [2.88352890e+01, 2.88352890e+01, 2.88352890e+01],\n",
       "         [5.76484375e+01, 5.76484375e+01, 5.76484375e+01]],\n",
       "\n",
       "        [[9.89485550e+00, 9.89485550e+00, 9.89485550e+00],\n",
       "         [8.55957413e+00, 8.55957413e+00, 8.55957413e+00],\n",
       "         [8.00000000e+00, 8.00000000e+00, 8.00000000e+00],\n",
       "         ...,\n",
       "         [1.06406250e+01, 1.06406250e+01, 1.06406250e+01],\n",
       "         [2.74648438e+01, 2.74648438e+01, 2.74648438e+01],\n",
       "         [5.53548203e+01, 5.53548203e+01, 5.53548203e+01]],\n",
       "\n",
       "        [[9.83203125e+00, 9.83203125e+00, 9.83203125e+00],\n",
       "         [8.00000000e+00, 8.00000000e+00, 8.00000000e+00],\n",
       "         [8.00000000e+00, 8.00000000e+00, 8.00000000e+00],\n",
       "         ...,\n",
       "         [1.06406250e+01, 1.06406250e+01, 1.06406250e+01],\n",
       "         [2.74648438e+01, 2.74648438e+01, 2.74648438e+01],\n",
       "         [5.39843750e+01, 5.39843750e+01, 5.39843750e+01]],\n",
       "\n",
       "        ...,\n",
       "\n",
       "        [[1.82115128e+02, 1.82115128e+02, 1.82115128e+02],\n",
       "         [1.55411438e+02, 1.55411438e+02, 1.55411438e+02],\n",
       "         [1.30340393e+02, 1.30340393e+02, 1.30340393e+02],\n",
       "         ...,\n",
       "         [8.35678101e+01, 8.35678101e+01, 8.35678101e+01],\n",
       "         [9.99478912e+01, 9.99478912e+01, 9.99478912e+01],\n",
       "         [1.04827904e+02, 1.04827904e+02, 1.04827904e+02]],\n",
       "\n",
       "        [[2.15138672e+02, 2.15138672e+02, 2.15138672e+02],\n",
       "         [1.93707993e+02, 1.93707993e+02, 1.93707993e+02],\n",
       "         [1.70767578e+02, 1.70767578e+02, 1.70767578e+02],\n",
       "         ...,\n",
       "         [1.35695938e+02, 1.35695938e+02, 1.35695938e+02],\n",
       "         [1.47707993e+02, 1.47707993e+02, 1.47707993e+02],\n",
       "         [1.47403961e+02, 1.47403961e+02, 1.47403961e+02]],\n",
       "\n",
       "        [[2.45249023e+02, 2.45249023e+02, 2.45249023e+02],\n",
       "         [2.34099274e+02, 2.34099274e+02, 2.34099274e+02],\n",
       "         [2.17458313e+02, 2.17458313e+02, 2.17458313e+02],\n",
       "         ...,\n",
       "         [1.92552292e+02, 1.92552292e+02, 1.92552292e+02],\n",
       "         [1.99981445e+02, 1.99981445e+02, 1.99981445e+02],\n",
       "         [1.91767029e+02, 1.91767029e+02, 1.91767029e+02]]],\n",
       "\n",
       "\n",
       "       [[[2.23323654e+02, 2.23323654e+02, 2.23323654e+02],\n",
       "         [1.31064224e+02, 1.31064224e+02, 1.31064224e+02],\n",
       "         [2.62180901e+01, 2.62180901e+01, 2.62180901e+01],\n",
       "         ...,\n",
       "         [2.00676270e+02, 2.00676270e+02, 2.00676270e+02],\n",
       "         [2.22455750e+02, 2.22455750e+02, 2.22455750e+02],\n",
       "         [2.24955612e+02, 2.24955612e+02, 2.24955612e+02]],\n",
       "\n",
       "        [[1.39960693e+02, 1.39960693e+02, 1.39960693e+02],\n",
       "         [3.11768990e+01, 3.11768990e+01, 3.11768990e+01],\n",
       "         [1.93330002e+00, 1.93330002e+00, 1.93330002e+00],\n",
       "         ...,\n",
       "         [1.87271194e+02, 1.87271194e+02, 1.87271194e+02],\n",
       "         [1.81780334e+02, 1.81780334e+02, 1.81780334e+02],\n",
       "         [1.98302765e+02, 1.98302765e+02, 1.98302765e+02]],\n",
       "\n",
       "        [[4.27612801e+01, 4.27612801e+01, 4.27612801e+01],\n",
       "         [6.76699066e+00, 6.76699066e+00, 6.76699066e+00],\n",
       "         [2.41044998e+00, 2.41044998e+00, 2.41044998e+00],\n",
       "         ...,\n",
       "         [1.94780701e+02, 1.94780701e+02, 1.94780701e+02],\n",
       "         [1.76498077e+02, 1.76498077e+02, 1.76498077e+02],\n",
       "         [1.70308517e+02, 1.70308517e+02, 1.70308517e+02]],\n",
       "\n",
       "        ...,\n",
       "\n",
       "        [[1.42317917e+02, 1.42317917e+02, 1.42317917e+02],\n",
       "         [1.55779297e+02, 1.55779297e+02, 1.55779297e+02],\n",
       "         [1.62349899e+02, 1.62349899e+02, 1.62349899e+02],\n",
       "         ...,\n",
       "         [1.24204529e+02, 1.24204529e+02, 1.24204529e+02],\n",
       "         [1.40401016e+02, 1.40401016e+02, 1.40401016e+02],\n",
       "         [1.39848724e+02, 1.39848724e+02, 1.39848724e+02]],\n",
       "\n",
       "        [[1.38568039e+02, 1.38568039e+02, 1.38568039e+02],\n",
       "         [1.48959961e+02, 1.48959961e+02, 1.48959961e+02],\n",
       "         [1.57247375e+02, 1.57247375e+02, 1.57247375e+02],\n",
       "         ...,\n",
       "         [1.23721329e+02, 1.23721329e+02, 1.23721329e+02],\n",
       "         [1.35549789e+02, 1.35549789e+02, 1.35549789e+02],\n",
       "         [1.35728195e+02, 1.35728195e+02, 1.35728195e+02]],\n",
       "\n",
       "        [[1.75976257e+02, 1.75976257e+02, 1.75976257e+02],\n",
       "         [1.50245453e+02, 1.50245453e+02, 1.50245453e+02],\n",
       "         [1.54989792e+02, 1.54989792e+02, 1.54989792e+02],\n",
       "         ...,\n",
       "         [1.22962555e+02, 1.22962555e+02, 1.22962555e+02],\n",
       "         [1.38130219e+02, 1.38130219e+02, 1.38130219e+02],\n",
       "         [1.75143463e+02, 1.75143463e+02, 1.75143463e+02]]],\n",
       "\n",
       "\n",
       "       [[[2.15144638e+02, 2.15144638e+02, 2.15144638e+02],\n",
       "         [2.08093079e+02, 2.08093079e+02, 2.08093079e+02],\n",
       "         [2.01833313e+02, 2.01833313e+02, 2.01833313e+02],\n",
       "         ...,\n",
       "         [2.02808594e+02, 2.02808594e+02, 2.02808594e+02],\n",
       "         [2.05656250e+02, 2.05656250e+02, 2.05656250e+02],\n",
       "         [1.92167969e+02, 1.92167969e+02, 1.92167969e+02]],\n",
       "\n",
       "        [[1.87329086e+02, 1.87329086e+02, 1.87329086e+02],\n",
       "         [1.62901321e+02, 1.62901321e+02, 1.62901321e+02],\n",
       "         [1.44773407e+02, 1.44773407e+02, 1.44773407e+02],\n",
       "         ...,\n",
       "         [1.88380859e+02, 1.88380859e+02, 1.88380859e+02],\n",
       "         [1.91416992e+02, 1.91416992e+02, 1.91416992e+02],\n",
       "         [1.77761398e+02, 1.77761398e+02, 1.77761398e+02]],\n",
       "\n",
       "        [[1.25578018e+02, 1.25578018e+02, 1.25578018e+02],\n",
       "         [8.86256638e+01, 8.86256638e+01, 8.86256638e+01],\n",
       "         [6.34386063e+01, 6.34386063e+01, 6.34386063e+01],\n",
       "         ...,\n",
       "         [1.64481613e+02, 1.64481613e+02, 1.64481613e+02],\n",
       "         [1.69901352e+02, 1.69901352e+02, 1.69901352e+02],\n",
       "         [1.58758987e+02, 1.58758987e+02, 1.58758987e+02]],\n",
       "\n",
       "        ...,\n",
       "\n",
       "        [[1.13556641e+02, 1.13556641e+02, 1.13556641e+02],\n",
       "         [1.07198883e+02, 1.07198883e+02, 1.07198883e+02],\n",
       "         [1.04640625e+02, 1.04640625e+02, 1.04640625e+02],\n",
       "         ...,\n",
       "         [5.22207031e+01, 5.22207031e+01, 5.22207031e+01],\n",
       "         [5.23125000e+01, 5.23125000e+01, 5.23125000e+01],\n",
       "         [4.52637825e+01, 4.52637825e+01, 4.52637825e+01]],\n",
       "\n",
       "        [[1.23976562e+02, 1.23976562e+02, 1.23976562e+02],\n",
       "         [1.17724609e+02, 1.17724609e+02, 1.17724609e+02],\n",
       "         [1.15480469e+02, 1.15480469e+02, 1.15480469e+02],\n",
       "         ...,\n",
       "         [6.03964844e+01, 6.03964844e+01, 6.03964844e+01],\n",
       "         [6.04882812e+01, 6.04882812e+01, 6.04882812e+01],\n",
       "         [5.45094414e+01, 5.45094414e+01, 5.45094414e+01]],\n",
       "\n",
       "        [[1.33747284e+02, 1.33747284e+02, 1.33747284e+02],\n",
       "         [1.26887039e+02, 1.26887039e+02, 1.26887039e+02],\n",
       "         [1.26097435e+02, 1.26097435e+02, 1.26097435e+02],\n",
       "         ...,\n",
       "         [6.94882812e+01, 6.94882812e+01, 6.94882812e+01],\n",
       "         [7.02653046e+01, 7.02653046e+01, 7.02653046e+01],\n",
       "         [6.39089622e+01, 6.39089622e+01, 6.39089622e+01]]],\n",
       "\n",
       "\n",
       "       ...,\n",
       "\n",
       "\n",
       "       [[[4.30181236e+01, 4.30181236e+01, 4.30181236e+01],\n",
       "         [5.85872650e+00, 5.85872650e+00, 5.85872650e+00],\n",
       "         [0.00000000e+00, 0.00000000e+00, 0.00000000e+00],\n",
       "         ...,\n",
       "         [1.29000000e+02, 1.29000000e+02, 1.29000000e+02],\n",
       "         [1.28937180e+02, 1.28937180e+02, 1.28937180e+02],\n",
       "         [1.28916016e+02, 1.28916016e+02, 1.28916016e+02]],\n",
       "\n",
       "        [[3.48509140e+01, 3.48509140e+01, 3.48509140e+01],\n",
       "         [4.48828125e+00, 4.48828125e+00, 4.48828125e+00],\n",
       "         [1.05800629e-01, 1.05800629e-01, 1.05800629e-01],\n",
       "         ...,\n",
       "         [1.31267578e+02, 1.31267578e+02, 1.31267578e+02],\n",
       "         [1.30519531e+02, 1.30519531e+02, 1.30519531e+02],\n",
       "         [1.30267578e+02, 1.30267578e+02, 1.30267578e+02]],\n",
       "\n",
       "        [[3.34804688e+01, 3.34804688e+01, 3.34804688e+01],\n",
       "         [4.48828125e+00, 4.48828125e+00, 4.48828125e+00],\n",
       "         [4.19921875e-01, 4.19921875e-01, 4.19921875e-01],\n",
       "         ...,\n",
       "         [1.25822266e+02, 1.25822266e+02, 1.25822266e+02],\n",
       "         [1.25388336e+02, 1.25388336e+02, 1.25388336e+02],\n",
       "         [1.25242188e+02, 1.25242188e+02, 1.25242188e+02]],\n",
       "\n",
       "        ...,\n",
       "\n",
       "        [[1.57523544e+02, 1.57523544e+02, 1.57523544e+02],\n",
       "         [1.41631531e+02, 1.41631531e+02, 1.41631531e+02],\n",
       "         [1.45199219e+02, 1.45199219e+02, 1.45199219e+02],\n",
       "         ...,\n",
       "         [1.38115784e+02, 1.38115784e+02, 1.38115784e+02],\n",
       "         [1.26337555e+02, 1.26337555e+02, 1.26337555e+02],\n",
       "         [1.17007812e+02, 1.17007812e+02, 1.17007812e+02]],\n",
       "\n",
       "        [[1.58173508e+02, 1.58173508e+02, 1.58173508e+02],\n",
       "         [1.41000000e+02, 1.41000000e+02, 1.41000000e+02],\n",
       "         [1.43625336e+02, 1.43625336e+02, 1.43625336e+02],\n",
       "         ...,\n",
       "         [1.37191406e+02, 1.37191406e+02, 1.37191406e+02],\n",
       "         [1.25834961e+02, 1.25834961e+02, 1.25834961e+02],\n",
       "         [1.15217445e+02, 1.15217445e+02, 1.15217445e+02]],\n",
       "\n",
       "        [[1.56879990e+02, 1.56879990e+02, 1.56879990e+02],\n",
       "         [1.42601242e+02, 1.42601242e+02, 1.42601242e+02],\n",
       "         [1.44435547e+02, 1.44435547e+02, 1.44435547e+02],\n",
       "         ...,\n",
       "         [1.35638779e+02, 1.35638779e+02, 1.35638779e+02],\n",
       "         [1.26911133e+02, 1.26911133e+02, 1.26911133e+02],\n",
       "         [1.16587891e+02, 1.16587891e+02, 1.16587891e+02]]],\n",
       "\n",
       "\n",
       "       [[[9.53359375e+01, 9.53359375e+01, 9.53359375e+01],\n",
       "         [9.93365936e+01, 9.93365936e+01, 9.93365936e+01],\n",
       "         [1.01246315e+02, 1.01246315e+02, 1.01246315e+02],\n",
       "         ...,\n",
       "         [1.10000000e+02, 1.10000000e+02, 1.10000000e+02],\n",
       "         [1.09937180e+02, 1.09937180e+02, 1.09937180e+02],\n",
       "         [1.07244904e+02, 1.07244904e+02, 1.07244904e+02]],\n",
       "\n",
       "        [[9.59033203e+01, 9.59033203e+01, 9.59033203e+01],\n",
       "         [1.01456055e+02, 1.01456055e+02, 1.01456055e+02],\n",
       "         [1.06475899e+02, 1.06475899e+02, 1.06475899e+02],\n",
       "         ...,\n",
       "         [1.08236328e+02, 1.08236328e+02, 1.08236328e+02],\n",
       "         [1.07865227e+02, 1.07865227e+02, 1.07865227e+02],\n",
       "         [1.05677414e+02, 1.05677414e+02, 1.05677414e+02]],\n",
       "\n",
       "        [[9.96875000e+01, 9.96875000e+01, 9.96875000e+01],\n",
       "         [1.06790024e+02, 1.06790024e+02, 1.06790024e+02],\n",
       "         [1.09327019e+02, 1.09327019e+02, 1.09327019e+02],\n",
       "         ...,\n",
       "         [9.88007812e+01, 9.88007812e+01, 9.88007812e+01],\n",
       "         [9.92347107e+01, 9.92347107e+01, 9.92347107e+01],\n",
       "         [9.66328125e+01, 9.66328125e+01, 9.66328125e+01]],\n",
       "\n",
       "        ...,\n",
       "\n",
       "        [[3.29160156e+01, 3.29160156e+01, 3.29160156e+01],\n",
       "         [3.17480469e+01, 3.17480469e+01, 3.17480469e+01],\n",
       "         [3.08236656e+01, 3.08236656e+01, 3.08236656e+01],\n",
       "         ...,\n",
       "         [4.35800781e+01, 4.35800781e+01, 4.35800781e+01],\n",
       "         [4.38941994e+01, 4.38941994e+01, 4.38941994e+01],\n",
       "         [4.58320312e+01, 4.58320312e+01, 4.58320312e+01]],\n",
       "\n",
       "        [[3.28531914e+01, 3.28531914e+01, 3.28531914e+01],\n",
       "         [3.11884727e+01, 3.11884727e+01, 3.11884727e+01],\n",
       "         [3.06858788e+01, 3.06858788e+01, 3.06858788e+01],\n",
       "         ...,\n",
       "         [4.36858788e+01, 4.36858788e+01, 4.36858788e+01],\n",
       "         [4.45595741e+01, 4.45595741e+01, 4.45595741e+01],\n",
       "         [4.65800781e+01, 4.65800781e+01, 4.65800781e+01]],\n",
       "\n",
       "        [[3.29858932e+01, 3.29858932e+01, 3.29858932e+01],\n",
       "         [3.28320312e+01, 3.28320312e+01, 3.28320312e+01],\n",
       "         [3.24121094e+01, 3.24121094e+01, 3.24121094e+01],\n",
       "         ...,\n",
       "         [4.57967644e+01, 4.57967644e+01, 4.57967644e+01],\n",
       "         [4.65800781e+01, 4.65800781e+01, 4.65800781e+01],\n",
       "         [4.86640625e+01, 4.86640625e+01, 4.86640625e+01]]],\n",
       "\n",
       "\n",
       "       [[[2.25039062e+01, 2.25039062e+01, 2.25039062e+01],\n",
       "         [2.36507149e+01, 2.36507149e+01, 2.36507149e+01],\n",
       "         [2.43359375e+01, 2.43359375e+01, 2.43359375e+01],\n",
       "         ...,\n",
       "         [4.74193687e+01, 4.74193687e+01, 4.74193687e+01],\n",
       "         [4.58880081e+01, 4.58880081e+01, 4.58880081e+01],\n",
       "         [3.99529037e+01, 3.99529037e+01, 3.99529037e+01]],\n",
       "\n",
       "        [[2.78186836e+01, 2.78186836e+01, 2.78186836e+01],\n",
       "         [2.85673866e+01, 2.85673866e+01, 2.85673866e+01],\n",
       "         [2.86500587e+01, 2.86500587e+01, 2.86500587e+01],\n",
       "         ...,\n",
       "         [5.28785744e+01, 5.28785744e+01, 5.28785744e+01],\n",
       "         [6.04169884e+01, 6.04169884e+01, 6.04169884e+01],\n",
       "         [6.66288986e+01, 6.66288986e+01, 6.66288986e+01]],\n",
       "\n",
       "        [[2.93012238e+01, 2.93012238e+01, 2.93012238e+01],\n",
       "         [3.19382019e+01, 3.19382019e+01, 3.19382019e+01],\n",
       "         [3.47792969e+01, 3.47792969e+01, 3.47792969e+01],\n",
       "         ...,\n",
       "         [5.09165688e+01, 5.09165688e+01, 5.09165688e+01],\n",
       "         [5.85241013e+01, 5.85241013e+01, 5.85241013e+01],\n",
       "         [6.76702576e+01, 6.76702576e+01, 6.76702576e+01]],\n",
       "\n",
       "        ...,\n",
       "\n",
       "        [[1.66791122e+02, 1.66791122e+02, 1.66791122e+02],\n",
       "         [1.76573883e+02, 1.76573883e+02, 1.76573883e+02],\n",
       "         [1.80000000e+02, 1.80000000e+02, 1.80000000e+02],\n",
       "         ...,\n",
       "         [9.42826538e+01, 9.42826538e+01, 9.42826538e+01],\n",
       "         [8.71757812e+01, 8.71757812e+01, 8.71757812e+01],\n",
       "         [9.13846588e+01, 9.13846588e+01, 9.13846588e+01]],\n",
       "\n",
       "        [[1.67503906e+02, 1.67503906e+02, 1.67503906e+02],\n",
       "         [1.77007812e+02, 1.77007812e+02, 1.77007812e+02],\n",
       "         [1.80433929e+02, 1.80433929e+02, 1.80433929e+02],\n",
       "         ...,\n",
       "         [9.43531799e+01, 9.43531799e+01, 9.43531799e+01],\n",
       "         [8.61962891e+01, 8.61962891e+01, 8.61962891e+01],\n",
       "         [8.98320312e+01, 8.98320312e+01, 8.98320312e+01]],\n",
       "\n",
       "        [[1.69510956e+02, 1.69510956e+02, 1.69510956e+02],\n",
       "         [1.77714203e+02, 1.77714203e+02, 1.77714203e+02],\n",
       "         [1.80048721e+02, 1.80048721e+02, 1.80048721e+02],\n",
       "         ...,\n",
       "         [9.48436432e+01, 9.48436432e+01, 9.48436432e+01],\n",
       "         [8.66930389e+01, 8.66930389e+01, 8.66930389e+01],\n",
       "         [9.21742630e+01, 9.21742630e+01, 9.21742630e+01]]]],\n",
       "      dtype=float32)"
      ]
     },
     "execution_count": 23,
     "metadata": {},
     "output_type": "execute_result"
    }
   ],
   "source": [
    "batch[0]"
   ]
  },
  {
   "cell_type": "code",
   "execution_count": 25,
   "id": "fd8bd73e-9cb0-44ec-937f-190f285bc4c8",
   "metadata": {},
   "outputs": [],
   "source": [
    "covid_dataset = covid_dataset.map(lambda x,y:(x/255, y))"
   ]
  },
  {
   "cell_type": "code",
   "execution_count": 27,
   "id": "3d332264-266f-4e02-a42a-9aa840b1f7ad",
   "metadata": {},
   "outputs": [],
   "source": [
    "scaled_iterator = covid_dataset.as_numpy_iterator()"
   ]
  },
  {
   "cell_type": "code",
   "execution_count": 29,
   "id": "6a27f06c-2e9f-4542-98f0-ff7bd88e1f7c",
   "metadata": {},
   "outputs": [],
   "source": [
    "batch = scaled_iterator.next()"
   ]
  },
  {
   "cell_type": "code",
   "execution_count": 31,
   "id": "8383f905-0fee-4a9e-90c1-14a55fc4f07f",
   "metadata": {},
   "outputs": [
    {
     "data": {
      "text/plain": [
       "0.0"
      ]
     },
     "execution_count": 31,
     "metadata": {},
     "output_type": "execute_result"
    }
   ],
   "source": [
    "batch[0].min()"
   ]
  },
  {
   "cell_type": "code",
   "execution_count": 33,
   "id": "2eeaa930-9bf6-4ed2-af27-4755616ed7c5",
   "metadata": {},
   "outputs": [
    {
     "data": {
      "text/plain": [
       "126"
      ]
     },
     "execution_count": 33,
     "metadata": {},
     "output_type": "execute_result"
    }
   ],
   "source": [
    "len(covid_dataset)"
   ]
  },
  {
   "cell_type": "code",
   "execution_count": 35,
   "id": "3eadb24b-1a73-4178-8521-8c95990dbb73",
   "metadata": {},
   "outputs": [],
   "source": [
    "train_size = int(len(covid_dataset)*.7)\n",
    "val_size = int(len(covid_dataset)*.2)\n",
    "test_size = int(len(covid_dataset)*.1)+1"
   ]
  },
  {
   "cell_type": "code",
   "execution_count": 37,
   "id": "406c4d1f-b23c-4e9e-b8a4-72ece433c17e",
   "metadata": {},
   "outputs": [
    {
     "data": {
      "text/plain": [
       "126"
      ]
     },
     "execution_count": 37,
     "metadata": {},
     "output_type": "execute_result"
    }
   ],
   "source": [
    "val_size+test_size+train_size"
   ]
  },
  {
   "cell_type": "code",
   "execution_count": 41,
   "id": "299d4a51-8c75-4935-9bdf-f107829ac358",
   "metadata": {},
   "outputs": [
    {
     "data": {
      "text/plain": [
       "88"
      ]
     },
     "execution_count": 41,
     "metadata": {},
     "output_type": "execute_result"
    }
   ],
   "source": [
    "train_size"
   ]
  },
  {
   "cell_type": "code",
   "execution_count": 43,
   "id": "0d78429b-9533-420c-ad46-dcf4f60dd698",
   "metadata": {},
   "outputs": [],
   "source": [
    "train = covid_dataset.take(train_size)\n",
    "val = covid_dataset.skip(train_size).take(val_size)\n",
    "test = covid_dataset.skip(train_size+val_size).take(test_size)"
   ]
  },
  {
   "cell_type": "code",
   "execution_count": 45,
   "id": "8609bdd3-b81b-4323-9f47-c7b2ded8eb78",
   "metadata": {},
   "outputs": [
    {
     "data": {
      "text/plain": [
       "88"
      ]
     },
     "execution_count": 45,
     "metadata": {},
     "output_type": "execute_result"
    }
   ],
   "source": [
    "len(train)"
   ]
  },
  {
   "cell_type": "code",
   "execution_count": null,
   "id": "e89a9325-4972-4b54-a800-8ceaf4552324",
   "metadata": {},
   "outputs": [],
   "source": []
  },
  {
   "cell_type": "code",
   "execution_count": 48,
   "id": "44fc78f4-5603-494e-82eb-48abb65efcb5",
   "metadata": {},
   "outputs": [
    {
     "name": "stderr",
     "output_type": "stream",
     "text": [
      "C:\\Users\\sanke\\anaconda3\\Lib\\site-packages\\keras\\src\\layers\\convolutional\\base_conv.py:107: UserWarning: Do not pass an `input_shape`/`input_dim` argument to a layer. When using Sequential models, prefer using an `Input(shape)` object as the first layer in the model instead.\n",
      "  super().__init__(activity_regularizer=activity_regularizer, **kwargs)\n"
     ]
    },
    {
     "data": {
      "text/html": [
       "<pre style=\"white-space:pre;overflow-x:auto;line-height:normal;font-family:Menlo,'DejaVu Sans Mono',consolas,'Courier New',monospace\"><span style=\"font-weight: bold\">Model: \"sequential\"</span>\n",
       "</pre>\n"
      ],
      "text/plain": [
       "\u001b[1mModel: \"sequential\"\u001b[0m\n"
      ]
     },
     "metadata": {},
     "output_type": "display_data"
    },
    {
     "data": {
      "text/html": [
       "<pre style=\"white-space:pre;overflow-x:auto;line-height:normal;font-family:Menlo,'DejaVu Sans Mono',consolas,'Courier New',monospace\">┏━━━━━━━━━━━━━━━━━━━━━━━━━━━━━━━━━━━━━━┳━━━━━━━━━━━━━━━━━━━━━━━━━━━━━┳━━━━━━━━━━━━━━━━━┓\n",
       "┃<span style=\"font-weight: bold\"> Layer (type)                         </span>┃<span style=\"font-weight: bold\"> Output Shape                </span>┃<span style=\"font-weight: bold\">         Param # </span>┃\n",
       "┡━━━━━━━━━━━━━━━━━━━━━━━━━━━━━━━━━━━━━━╇━━━━━━━━━━━━━━━━━━━━━━━━━━━━━╇━━━━━━━━━━━━━━━━━┩\n",
       "│ conv2d (<span style=\"color: #0087ff; text-decoration-color: #0087ff\">Conv2D</span>)                      │ (<span style=\"color: #00d7ff; text-decoration-color: #00d7ff\">None</span>, <span style=\"color: #00af00; text-decoration-color: #00af00\">254</span>, <span style=\"color: #00af00; text-decoration-color: #00af00\">254</span>, <span style=\"color: #00af00; text-decoration-color: #00af00\">32</span>)        │             <span style=\"color: #00af00; text-decoration-color: #00af00\">896</span> │\n",
       "├──────────────────────────────────────┼─────────────────────────────┼─────────────────┤\n",
       "│ max_pooling2d (<span style=\"color: #0087ff; text-decoration-color: #0087ff\">MaxPooling2D</span>)         │ (<span style=\"color: #00d7ff; text-decoration-color: #00d7ff\">None</span>, <span style=\"color: #00af00; text-decoration-color: #00af00\">127</span>, <span style=\"color: #00af00; text-decoration-color: #00af00\">127</span>, <span style=\"color: #00af00; text-decoration-color: #00af00\">32</span>)        │               <span style=\"color: #00af00; text-decoration-color: #00af00\">0</span> │\n",
       "├──────────────────────────────────────┼─────────────────────────────┼─────────────────┤\n",
       "│ conv2d_1 (<span style=\"color: #0087ff; text-decoration-color: #0087ff\">Conv2D</span>)                    │ (<span style=\"color: #00d7ff; text-decoration-color: #00d7ff\">None</span>, <span style=\"color: #00af00; text-decoration-color: #00af00\">125</span>, <span style=\"color: #00af00; text-decoration-color: #00af00\">125</span>, <span style=\"color: #00af00; text-decoration-color: #00af00\">64</span>)        │          <span style=\"color: #00af00; text-decoration-color: #00af00\">18,496</span> │\n",
       "├──────────────────────────────────────┼─────────────────────────────┼─────────────────┤\n",
       "│ max_pooling2d_1 (<span style=\"color: #0087ff; text-decoration-color: #0087ff\">MaxPooling2D</span>)       │ (<span style=\"color: #00d7ff; text-decoration-color: #00d7ff\">None</span>, <span style=\"color: #00af00; text-decoration-color: #00af00\">62</span>, <span style=\"color: #00af00; text-decoration-color: #00af00\">62</span>, <span style=\"color: #00af00; text-decoration-color: #00af00\">64</span>)          │               <span style=\"color: #00af00; text-decoration-color: #00af00\">0</span> │\n",
       "├──────────────────────────────────────┼─────────────────────────────┼─────────────────┤\n",
       "│ conv2d_2 (<span style=\"color: #0087ff; text-decoration-color: #0087ff\">Conv2D</span>)                    │ (<span style=\"color: #00d7ff; text-decoration-color: #00d7ff\">None</span>, <span style=\"color: #00af00; text-decoration-color: #00af00\">60</span>, <span style=\"color: #00af00; text-decoration-color: #00af00\">60</span>, <span style=\"color: #00af00; text-decoration-color: #00af00\">128</span>)         │          <span style=\"color: #00af00; text-decoration-color: #00af00\">73,856</span> │\n",
       "├──────────────────────────────────────┼─────────────────────────────┼─────────────────┤\n",
       "│ max_pooling2d_2 (<span style=\"color: #0087ff; text-decoration-color: #0087ff\">MaxPooling2D</span>)       │ (<span style=\"color: #00d7ff; text-decoration-color: #00d7ff\">None</span>, <span style=\"color: #00af00; text-decoration-color: #00af00\">30</span>, <span style=\"color: #00af00; text-decoration-color: #00af00\">30</span>, <span style=\"color: #00af00; text-decoration-color: #00af00\">128</span>)         │               <span style=\"color: #00af00; text-decoration-color: #00af00\">0</span> │\n",
       "├──────────────────────────────────────┼─────────────────────────────┼─────────────────┤\n",
       "│ flatten (<span style=\"color: #0087ff; text-decoration-color: #0087ff\">Flatten</span>)                    │ (<span style=\"color: #00d7ff; text-decoration-color: #00d7ff\">None</span>, <span style=\"color: #00af00; text-decoration-color: #00af00\">115200</span>)              │               <span style=\"color: #00af00; text-decoration-color: #00af00\">0</span> │\n",
       "├──────────────────────────────────────┼─────────────────────────────┼─────────────────┤\n",
       "│ dense (<span style=\"color: #0087ff; text-decoration-color: #0087ff\">Dense</span>)                        │ (<span style=\"color: #00d7ff; text-decoration-color: #00d7ff\">None</span>, <span style=\"color: #00af00; text-decoration-color: #00af00\">512</span>)                 │      <span style=\"color: #00af00; text-decoration-color: #00af00\">58,982,912</span> │\n",
       "├──────────────────────────────────────┼─────────────────────────────┼─────────────────┤\n",
       "│ dropout (<span style=\"color: #0087ff; text-decoration-color: #0087ff\">Dropout</span>)                    │ (<span style=\"color: #00d7ff; text-decoration-color: #00d7ff\">None</span>, <span style=\"color: #00af00; text-decoration-color: #00af00\">512</span>)                 │               <span style=\"color: #00af00; text-decoration-color: #00af00\">0</span> │\n",
       "├──────────────────────────────────────┼─────────────────────────────┼─────────────────┤\n",
       "│ dense_1 (<span style=\"color: #0087ff; text-decoration-color: #0087ff\">Dense</span>)                      │ (<span style=\"color: #00d7ff; text-decoration-color: #00d7ff\">None</span>, <span style=\"color: #00af00; text-decoration-color: #00af00\">4</span>)                   │           <span style=\"color: #00af00; text-decoration-color: #00af00\">2,052</span> │\n",
       "└──────────────────────────────────────┴─────────────────────────────┴─────────────────┘\n",
       "</pre>\n"
      ],
      "text/plain": [
       "┏━━━━━━━━━━━━━━━━━━━━━━━━━━━━━━━━━━━━━━┳━━━━━━━━━━━━━━━━━━━━━━━━━━━━━┳━━━━━━━━━━━━━━━━━┓\n",
       "┃\u001b[1m \u001b[0m\u001b[1mLayer (type)                        \u001b[0m\u001b[1m \u001b[0m┃\u001b[1m \u001b[0m\u001b[1mOutput Shape               \u001b[0m\u001b[1m \u001b[0m┃\u001b[1m \u001b[0m\u001b[1m        Param #\u001b[0m\u001b[1m \u001b[0m┃\n",
       "┡━━━━━━━━━━━━━━━━━━━━━━━━━━━━━━━━━━━━━━╇━━━━━━━━━━━━━━━━━━━━━━━━━━━━━╇━━━━━━━━━━━━━━━━━┩\n",
       "│ conv2d (\u001b[38;5;33mConv2D\u001b[0m)                      │ (\u001b[38;5;45mNone\u001b[0m, \u001b[38;5;34m254\u001b[0m, \u001b[38;5;34m254\u001b[0m, \u001b[38;5;34m32\u001b[0m)        │             \u001b[38;5;34m896\u001b[0m │\n",
       "├──────────────────────────────────────┼─────────────────────────────┼─────────────────┤\n",
       "│ max_pooling2d (\u001b[38;5;33mMaxPooling2D\u001b[0m)         │ (\u001b[38;5;45mNone\u001b[0m, \u001b[38;5;34m127\u001b[0m, \u001b[38;5;34m127\u001b[0m, \u001b[38;5;34m32\u001b[0m)        │               \u001b[38;5;34m0\u001b[0m │\n",
       "├──────────────────────────────────────┼─────────────────────────────┼─────────────────┤\n",
       "│ conv2d_1 (\u001b[38;5;33mConv2D\u001b[0m)                    │ (\u001b[38;5;45mNone\u001b[0m, \u001b[38;5;34m125\u001b[0m, \u001b[38;5;34m125\u001b[0m, \u001b[38;5;34m64\u001b[0m)        │          \u001b[38;5;34m18,496\u001b[0m │\n",
       "├──────────────────────────────────────┼─────────────────────────────┼─────────────────┤\n",
       "│ max_pooling2d_1 (\u001b[38;5;33mMaxPooling2D\u001b[0m)       │ (\u001b[38;5;45mNone\u001b[0m, \u001b[38;5;34m62\u001b[0m, \u001b[38;5;34m62\u001b[0m, \u001b[38;5;34m64\u001b[0m)          │               \u001b[38;5;34m0\u001b[0m │\n",
       "├──────────────────────────────────────┼─────────────────────────────┼─────────────────┤\n",
       "│ conv2d_2 (\u001b[38;5;33mConv2D\u001b[0m)                    │ (\u001b[38;5;45mNone\u001b[0m, \u001b[38;5;34m60\u001b[0m, \u001b[38;5;34m60\u001b[0m, \u001b[38;5;34m128\u001b[0m)         │          \u001b[38;5;34m73,856\u001b[0m │\n",
       "├──────────────────────────────────────┼─────────────────────────────┼─────────────────┤\n",
       "│ max_pooling2d_2 (\u001b[38;5;33mMaxPooling2D\u001b[0m)       │ (\u001b[38;5;45mNone\u001b[0m, \u001b[38;5;34m30\u001b[0m, \u001b[38;5;34m30\u001b[0m, \u001b[38;5;34m128\u001b[0m)         │               \u001b[38;5;34m0\u001b[0m │\n",
       "├──────────────────────────────────────┼─────────────────────────────┼─────────────────┤\n",
       "│ flatten (\u001b[38;5;33mFlatten\u001b[0m)                    │ (\u001b[38;5;45mNone\u001b[0m, \u001b[38;5;34m115200\u001b[0m)              │               \u001b[38;5;34m0\u001b[0m │\n",
       "├──────────────────────────────────────┼─────────────────────────────┼─────────────────┤\n",
       "│ dense (\u001b[38;5;33mDense\u001b[0m)                        │ (\u001b[38;5;45mNone\u001b[0m, \u001b[38;5;34m512\u001b[0m)                 │      \u001b[38;5;34m58,982,912\u001b[0m │\n",
       "├──────────────────────────────────────┼─────────────────────────────┼─────────────────┤\n",
       "│ dropout (\u001b[38;5;33mDropout\u001b[0m)                    │ (\u001b[38;5;45mNone\u001b[0m, \u001b[38;5;34m512\u001b[0m)                 │               \u001b[38;5;34m0\u001b[0m │\n",
       "├──────────────────────────────────────┼─────────────────────────────┼─────────────────┤\n",
       "│ dense_1 (\u001b[38;5;33mDense\u001b[0m)                      │ (\u001b[38;5;45mNone\u001b[0m, \u001b[38;5;34m4\u001b[0m)                   │           \u001b[38;5;34m2,052\u001b[0m │\n",
       "└──────────────────────────────────────┴─────────────────────────────┴─────────────────┘\n"
      ]
     },
     "metadata": {},
     "output_type": "display_data"
    },
    {
     "data": {
      "text/html": [
       "<pre style=\"white-space:pre;overflow-x:auto;line-height:normal;font-family:Menlo,'DejaVu Sans Mono',consolas,'Courier New',monospace\"><span style=\"font-weight: bold\"> Total params: </span><span style=\"color: #00af00; text-decoration-color: #00af00\">59,078,212</span> (225.37 MB)\n",
       "</pre>\n"
      ],
      "text/plain": [
       "\u001b[1m Total params: \u001b[0m\u001b[38;5;34m59,078,212\u001b[0m (225.37 MB)\n"
      ]
     },
     "metadata": {},
     "output_type": "display_data"
    },
    {
     "data": {
      "text/html": [
       "<pre style=\"white-space:pre;overflow-x:auto;line-height:normal;font-family:Menlo,'DejaVu Sans Mono',consolas,'Courier New',monospace\"><span style=\"font-weight: bold\"> Trainable params: </span><span style=\"color: #00af00; text-decoration-color: #00af00\">59,078,212</span> (225.37 MB)\n",
       "</pre>\n"
      ],
      "text/plain": [
       "\u001b[1m Trainable params: \u001b[0m\u001b[38;5;34m59,078,212\u001b[0m (225.37 MB)\n"
      ]
     },
     "metadata": {},
     "output_type": "display_data"
    },
    {
     "data": {
      "text/html": [
       "<pre style=\"white-space:pre;overflow-x:auto;line-height:normal;font-family:Menlo,'DejaVu Sans Mono',consolas,'Courier New',monospace\"><span style=\"font-weight: bold\"> Non-trainable params: </span><span style=\"color: #00af00; text-decoration-color: #00af00\">0</span> (0.00 B)\n",
       "</pre>\n"
      ],
      "text/plain": [
       "\u001b[1m Non-trainable params: \u001b[0m\u001b[38;5;34m0\u001b[0m (0.00 B)\n"
      ]
     },
     "metadata": {},
     "output_type": "display_data"
    }
   ],
   "source": [
    "from tensorflow.keras.models import Sequential\n",
    "from tensorflow.keras.layers import Conv2D, MaxPooling2D, Flatten, Dense, Dropout\n",
    "from tensorflow.keras.optimizers import Adam\n",
    "from tensorflow.keras import regularizers\n",
    "\n",
    "# Create a new Sequential model\n",
    "model = Sequential()\n",
    "\n",
    "# First convolutional layer: 32 filters, 3x3 kernel, ReLU activation\n",
    "model.add(Conv2D(32, (3, 3), activation='relu', input_shape=(256, 256, 3)))\n",
    "model.add(MaxPooling2D(pool_size=(2, 2)))  # MaxPooling layer to reduce spatial dimensions\n",
    "\n",
    "# Second convolutional layer: 64 filters, 3x3 kernel, ReLU activation\n",
    "model.add(Conv2D(64, (3, 3), activation='relu'))\n",
    "model.add(MaxPooling2D(pool_size=(2, 2)))\n",
    "\n",
    "# Third convolutional layer: 128 filters, 3x3 kernel, ReLU activation\n",
    "model.add(Conv2D(128, (3, 3), activation='relu'))\n",
    "model.add(MaxPooling2D(pool_size=(2, 2)))\n",
    "\n",
    "# Flatten the output to feed into fully connected layers\n",
    "model.add(Flatten())\n",
    "\n",
    "# Fully connected (Dense) layer with 512 neurons and ReLU activation\n",
    "model.add(Dense(512, activation='relu', kernel_regularizer=regularizers.l2(0.01)))  # L2 regularization\n",
    "\n",
    "# Dropout layer for regularization (helps prevent overfitting)\n",
    "model.add(Dropout(0.5))\n",
    "\n",
    "# Final output layer: 4 neurons for 4 classes with softmax activation\n",
    "model.add(Dense(4, activation='softmax'))\n",
    "\n",
    "\n",
    "# Print the model summary\n",
    "model.summary()\n"
   ]
  },
  {
   "cell_type": "code",
   "execution_count": 50,
   "id": "19ffb972-3be8-448a-afed-e30928be84f3",
   "metadata": {},
   "outputs": [],
   "source": [
    "model.compile(optimizer=Adam(learning_rate=0.0001), loss='sparse_categorical_crossentropy', metrics=['accuracy'])"
   ]
  },
  {
   "cell_type": "code",
   "execution_count": 52,
   "id": "e93c343f-2109-4396-b8cf-f2a154c9e74c",
   "metadata": {},
   "outputs": [],
   "source": [
    "logdir = r'C:\\Users\\sanke\\OneDrive\\Desktop\\covid dataset\\logs'"
   ]
  },
  {
   "cell_type": "code",
   "execution_count": 54,
   "id": "4be16fe2-6602-4c1e-903f-b6a78efd0443",
   "metadata": {},
   "outputs": [],
   "source": [
    "tensorboard_callback = tf.keras.callbacks.TensorBoard(log_dir = logdir)"
   ]
  },
  {
   "cell_type": "code",
   "execution_count": 114,
   "id": "4ca2989f-1360-4e55-8b60-aad7be050b2e",
   "metadata": {},
   "outputs": [
    {
     "name": "stdout",
     "output_type": "stream",
     "text": [
      "Epoch 1/20\n",
      "\u001b[1m88/88\u001b[0m \u001b[32m━━━━━━━━━━━━━━━━━━━━\u001b[0m\u001b[37m\u001b[0m \u001b[1m73s\u001b[0m 780ms/step - accuracy: 0.4385 - loss: 7.0582 - val_accuracy: 0.6837 - val_loss: 1.7004\n",
      "Epoch 2/20\n",
      "\u001b[1m88/88\u001b[0m \u001b[32m━━━━━━━━━━━━━━━━━━━━\u001b[0m\u001b[37m\u001b[0m \u001b[1m68s\u001b[0m 772ms/step - accuracy: 0.6855 - loss: 1.5239 - val_accuracy: 0.6975 - val_loss: 1.2285\n",
      "Epoch 3/20\n",
      "\u001b[1m88/88\u001b[0m \u001b[32m━━━━━━━━━━━━━━━━━━━━\u001b[0m\u001b[37m\u001b[0m \u001b[1m65s\u001b[0m 738ms/step - accuracy: 0.7261 - loss: 1.1381 - val_accuracy: 0.7713 - val_loss: 0.9224\n",
      "Epoch 4/20\n",
      "\u001b[1m88/88\u001b[0m \u001b[32m━━━━━━━━━━━━━━━━━━━━\u001b[0m\u001b[37m\u001b[0m \u001b[1m64s\u001b[0m 729ms/step - accuracy: 0.7648 - loss: 0.9120 - val_accuracy: 0.7638 - val_loss: 0.8895\n",
      "Epoch 5/20\n",
      "\u001b[1m88/88\u001b[0m \u001b[32m━━━━━━━━━━━━━━━━━━━━\u001b[0m\u001b[37m\u001b[0m \u001b[1m64s\u001b[0m 728ms/step - accuracy: 0.7669 - loss: 0.8356 - val_accuracy: 0.7362 - val_loss: 0.8618\n",
      "Epoch 6/20\n",
      "\u001b[1m88/88\u001b[0m \u001b[32m━━━━━━━━━━━━━━━━━━━━\u001b[0m\u001b[37m\u001b[0m \u001b[1m66s\u001b[0m 743ms/step - accuracy: 0.7794 - loss: 0.7871 - val_accuracy: 0.7900 - val_loss: 0.7775\n",
      "Epoch 7/20\n",
      "\u001b[1m88/88\u001b[0m \u001b[32m━━━━━━━━━━━━━━━━━━━━\u001b[0m\u001b[37m\u001b[0m \u001b[1m64s\u001b[0m 725ms/step - accuracy: 0.7897 - loss: 0.7452 - val_accuracy: 0.8087 - val_loss: 0.7248\n",
      "Epoch 8/20\n",
      "\u001b[1m88/88\u001b[0m \u001b[32m━━━━━━━━━━━━━━━━━━━━\u001b[0m\u001b[37m\u001b[0m \u001b[1m65s\u001b[0m 732ms/step - accuracy: 0.7910 - loss: 0.7185 - val_accuracy: 0.7738 - val_loss: 0.7571\n",
      "Epoch 9/20\n",
      "\u001b[1m88/88\u001b[0m \u001b[32m━━━━━━━━━━━━━━━━━━━━\u001b[0m\u001b[37m\u001b[0m \u001b[1m66s\u001b[0m 745ms/step - accuracy: 0.8017 - loss: 0.6901 - val_accuracy: 0.8100 - val_loss: 0.6685\n",
      "Epoch 10/20\n",
      "\u001b[1m88/88\u001b[0m \u001b[32m━━━━━━━━━━━━━━━━━━━━\u001b[0m\u001b[37m\u001b[0m \u001b[1m68s\u001b[0m 774ms/step - accuracy: 0.8087 - loss: 0.6745 - val_accuracy: 0.8062 - val_loss: 0.6711\n",
      "Epoch 11/20\n",
      "\u001b[1m88/88\u001b[0m \u001b[32m━━━━━━━━━━━━━━━━━━━━\u001b[0m\u001b[37m\u001b[0m \u001b[1m64s\u001b[0m 730ms/step - accuracy: 0.8007 - loss: 0.6787 - val_accuracy: 0.7700 - val_loss: 0.7361\n",
      "Epoch 12/20\n",
      "\u001b[1m88/88\u001b[0m \u001b[32m━━━━━━━━━━━━━━━━━━━━\u001b[0m\u001b[37m\u001b[0m \u001b[1m65s\u001b[0m 734ms/step - accuracy: 0.8160 - loss: 0.6622 - val_accuracy: 0.8163 - val_loss: 0.6665\n",
      "Epoch 13/20\n",
      "\u001b[1m88/88\u001b[0m \u001b[32m━━━━━━━━━━━━━━━━━━━━\u001b[0m\u001b[37m\u001b[0m \u001b[1m67s\u001b[0m 757ms/step - accuracy: 0.8227 - loss: 0.6351 - val_accuracy: 0.8087 - val_loss: 0.6701\n",
      "Epoch 14/20\n",
      "\u001b[1m88/88\u001b[0m \u001b[32m━━━━━━━━━━━━━━━━━━━━\u001b[0m\u001b[37m\u001b[0m \u001b[1m66s\u001b[0m 750ms/step - accuracy: 0.8242 - loss: 0.6288 - val_accuracy: 0.8263 - val_loss: 0.6498\n",
      "Epoch 15/20\n",
      "\u001b[1m88/88\u001b[0m \u001b[32m━━━━━━━━━━━━━━━━━━━━\u001b[0m\u001b[37m\u001b[0m \u001b[1m65s\u001b[0m 734ms/step - accuracy: 0.8398 - loss: 0.6029 - val_accuracy: 0.8263 - val_loss: 0.6240\n",
      "Epoch 16/20\n",
      "\u001b[1m88/88\u001b[0m \u001b[32m━━━━━━━━━━━━━━━━━━━━\u001b[0m\u001b[37m\u001b[0m \u001b[1m68s\u001b[0m 768ms/step - accuracy: 0.8537 - loss: 0.5769 - val_accuracy: 0.8188 - val_loss: 0.6390\n",
      "Epoch 17/20\n",
      "\u001b[1m88/88\u001b[0m \u001b[32m━━━━━━━━━━━━━━━━━━━━\u001b[0m\u001b[37m\u001b[0m \u001b[1m63s\u001b[0m 718ms/step - accuracy: 0.8504 - loss: 0.5762 - val_accuracy: 0.8012 - val_loss: 0.6940\n",
      "Epoch 18/20\n",
      "\u001b[1m88/88\u001b[0m \u001b[32m━━━━━━━━━━━━━━━━━━━━\u001b[0m\u001b[37m\u001b[0m \u001b[1m63s\u001b[0m 718ms/step - accuracy: 0.8359 - loss: 0.6061 - val_accuracy: 0.8388 - val_loss: 0.5965\n",
      "Epoch 19/20\n",
      "\u001b[1m88/88\u001b[0m \u001b[32m━━━━━━━━━━━━━━━━━━━━\u001b[0m\u001b[37m\u001b[0m \u001b[1m64s\u001b[0m 722ms/step - accuracy: 0.8530 - loss: 0.5481 - val_accuracy: 0.8275 - val_loss: 0.6184\n",
      "Epoch 20/20\n",
      "\u001b[1m88/88\u001b[0m \u001b[32m━━━━━━━━━━━━━━━━━━━━\u001b[0m\u001b[37m\u001b[0m \u001b[1m65s\u001b[0m 736ms/step - accuracy: 0.8692 - loss: 0.5574 - val_accuracy: 0.8138 - val_loss: 0.6687\n"
     ]
    }
   ],
   "source": [
    "hist = model.fit(train, epochs = 20, validation_data = val, callbacks = [tensorboard_callback])"
   ]
  },
  {
   "cell_type": "code",
   "execution_count": 148,
   "id": "436ac8d0-1a13-445e-a874-d9b1af7f8c12",
   "metadata": {},
   "outputs": [
    {
     "name": "stdout",
     "output_type": "stream",
     "text": [
      "\u001b[1m1/1\u001b[0m \u001b[32m━━━━━━━━━━━━━━━━━━━━\u001b[0m\u001b[37m\u001b[0m \u001b[1m0s\u001b[0m 112ms/step\n",
      "\u001b[1m1/1\u001b[0m \u001b[32m━━━━━━━━━━━━━━━━━━━━\u001b[0m\u001b[37m\u001b[0m \u001b[1m0s\u001b[0m 123ms/step\n",
      "\u001b[1m1/1\u001b[0m \u001b[32m━━━━━━━━━━━━━━━━━━━━\u001b[0m\u001b[37m\u001b[0m \u001b[1m0s\u001b[0m 129ms/step\n",
      "\u001b[1m1/1\u001b[0m \u001b[32m━━━━━━━━━━━━━━━━━━━━\u001b[0m\u001b[37m\u001b[0m \u001b[1m0s\u001b[0m 117ms/step\n",
      "\u001b[1m1/1\u001b[0m \u001b[32m━━━━━━━━━━━━━━━━━━━━\u001b[0m\u001b[37m\u001b[0m \u001b[1m0s\u001b[0m 124ms/step\n",
      "\u001b[1m1/1\u001b[0m \u001b[32m━━━━━━━━━━━━━━━━━━━━\u001b[0m\u001b[37m\u001b[0m \u001b[1m0s\u001b[0m 122ms/step\n",
      "\u001b[1m1/1\u001b[0m \u001b[32m━━━━━━━━━━━━━━━━━━━━\u001b[0m\u001b[37m\u001b[0m \u001b[1m0s\u001b[0m 111ms/step\n",
      "\u001b[1m1/1\u001b[0m \u001b[32m━━━━━━━━━━━━━━━━━━━━\u001b[0m\u001b[37m\u001b[0m \u001b[1m0s\u001b[0m 120ms/step\n",
      "\u001b[1m1/1\u001b[0m \u001b[32m━━━━━━━━━━━━━━━━━━━━\u001b[0m\u001b[37m\u001b[0m \u001b[1m0s\u001b[0m 132ms/step\n",
      "\u001b[1m1/1\u001b[0m \u001b[32m━━━━━━━━━━━━━━━━━━━━\u001b[0m\u001b[37m\u001b[0m \u001b[1m0s\u001b[0m 122ms/step\n",
      "\u001b[1m1/1\u001b[0m \u001b[32m━━━━━━━━━━━━━━━━━━━━\u001b[0m\u001b[37m\u001b[0m \u001b[1m0s\u001b[0m 120ms/step\n",
      "\u001b[1m1/1\u001b[0m \u001b[32m━━━━━━━━━━━━━━━━━━━━\u001b[0m\u001b[37m\u001b[0m \u001b[1m0s\u001b[0m 123ms/step\n",
      "\u001b[1m1/1\u001b[0m \u001b[32m━━━━━━━━━━━━━━━━━━━━\u001b[0m\u001b[37m\u001b[0m \u001b[1m0s\u001b[0m 67ms/step\n",
      "Precision: 0.9574\n",
      "Recall: 0.9184\n",
      "Accuracy: 0.7944\n"
     ]
    }
   ],
   "source": [
    "from tensorflow.keras.metrics import Precision, Recall, Accuracy\n",
    "import numpy as np\n",
    "\n",
    "# Initialize the metrics\n",
    "pre = Precision()\n",
    "re = Recall()\n",
    "acc = Accuracy()\n",
    "\n",
    "# Iterate over the test dataset in batches\n",
    "for batch in test.as_numpy_iterator():\n",
    "    x, y = batch  # x is the input data, y is the true labels\n",
    "\n",
    "    # Predict class probabilities (shape: [batch_size, 4])\n",
    "    yhat = model.predict(x)\n",
    "\n",
    "    # Get the predicted class labels (index of the max probability for each sample)\n",
    "    yhat = np.argmax(yhat, axis=1)  # Convert probabilities to class labels (shape: [batch_size])\n",
    "\n",
    "    # Update the state of each metric with the true labels and predicted values\n",
    "    pre.update_state(y, yhat)\n",
    "    re.update_state(y, yhat)\n",
    "    acc.update_state(y, yhat)\n",
    "\n",
    "# After the loop, you can get the final values for each metric\n",
    "print(f\"Precision: {pre.result().numpy():.4f}\")\n",
    "print(f\"Recall: {re.result().numpy():.4f}\")\n",
    "print(f\"Accuracy: {acc.result().numpy():.4f}\")\n",
    "\n"
   ]
  },
  {
   "cell_type": "code",
   "execution_count": 152,
   "id": "8bd42ed5-2aaf-4ee6-ae2b-165849083394",
   "metadata": {},
   "outputs": [
    {
     "name": "stdout",
     "output_type": "stream",
     "text": [
      "\u001b[1m1/1\u001b[0m \u001b[32m━━━━━━━━━━━━━━━━━━━━\u001b[0m\u001b[37m\u001b[0m \u001b[1m0s\u001b[0m 45ms/step\n"
     ]
    },
    {
     "data": {
      "image/png": "[encoded data removed]",
      "text/plain": [
       "<Figure size 640x480 with 1 Axes>"
      ]
     },
     "metadata": {},
     "output_type": "display_data"
    },
    {
     "name": "stdout",
     "output_type": "stream",
     "text": [
      "Predicted class: covid\n"
     ]
    }
   ],
   "source": [
    "import tensorflow as tf\n",
    "import numpy as np\n",
    "from tensorflow.keras.preprocessing import image\n",
    "import matplotlib.pyplot as plt\n",
    "\n",
    "# Step 1: Load the image\n",
    "img_path = r'C:\\Users\\sanke\\OneDrive\\Desktop\\covid dataset\\covid\\COVID-439.PNG'  # Replace with the path to your new image\n",
    "img = image.load_img(img_path, target_size=(256, 256))  # Resize image to 256x256 as expected by your model\n",
    "\n",
    "# Step 2: Preprocess the image (convert to numpy array and scale the values)\n",
    "img_array = image.img_to_array(img)  # Convert image to numpy array\n",
    "img_array = img_array / 255.0  # Scale pixel values to the range [0, 1]\n",
    "\n",
    "# Step 3: Expand dimensions to match the batch size (the model expects input in batches)\n",
    "img_array = np.expand_dims(img_array, axis=0)  # Shape becomes (1, 256, 256, 3)\n",
    "\n",
    "# Step 4: Make the prediction using the trained model\n",
    "predictions = model.predict(img_array)\n",
    "\n",
    "# Step 5: Get the predicted class (this will give the index of the highest probability)\n",
    "predicted_class = np.argmax(predictions, axis=1)\n",
    "\n",
    "# Step 6: Map the predicted class index to the corresponding label (assuming you know the labels)\n",
    "class_labels = ['covid', 'lung opacity', 'normal', 'viral pneumonia']  # List your class labels here\n",
    "predicted_label = class_labels[predicted_class[0]]\n",
    "\n",
    "# Step 7: Display the image and the prediction\n",
    "plt.imshow(img)\n",
    "plt.title(f'Predicted: {predicted_label}')\n",
    "plt.show()\n",
    "\n",
    "print(f'Predicted class: {predicted_label}')\n"
   ]
  },
  {
   "cell_type": "code",
   "execution_count": 162,
   "id": "0a206abc-587b-48f4-97f9-2b678c7c9974",
   "metadata": {},
   "outputs": [
    {
     "name": "stderr",
     "output_type": "stream",
     "text": [
      "WARNING:absl:You are saving your model as an HDF5 file via `model.save()` or `keras.saving.save_model(model)`. This file format is considered legacy. We recommend using instead the native Keras format, e.g. `model.save('my_model.keras')` or `keras.saving.save_model(model, 'my_model.keras')`. \n"
     ]
    }
   ],
   "source": [
    "# Save the model in HDF5 format\n",
    "model.save('covid_model.h5')  # Save the model as 'covid_model.h5'\n",
    "\n",
    "    "
   ]
  },
  {
   "cell_type": "code",
   "execution_count": 164,
   "id": "57a090f5-64c0-4631-9428-1407bdaeb1d3",
   "metadata": {},
   "outputs": [],
   "source": [
    "# Save the model in the new Keras format\n",
    "model.save('covid_model.keras')  # Saves the model in 'covid_model.keras'\n"
   ]
  },
  {
   "cell_type": "code",
   "execution_count": null,
   "id": "29139ed1-8e55-4ff2-8d0d-ddd8b4b6daa6",
   "metadata": {},
   "outputs": [],
   "source": []
  }
 ],
 "metadata": {
  "kernelspec": {
   "display_name": "Python 3 (ipykernel)",
   "language": "python",
   "name": "python3"
  },
  "language_info": {
   "codemirror_mode": {
    "name": "ipython",
    "version": 3
   },
   "file_extension": ".py",
   "mimetype": "text/x-python",
   "name": "python",
   "nbconvert_exporter": "python",
   "pygments_lexer": "ipython3",
   "version": "3.12.4"
  }
 },
 "nbformat": 4,
 "nbformat_minor": 5
}
